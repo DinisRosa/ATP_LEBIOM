{
 "cells": [
  {
   "cell_type": "code",
   "execution_count": 9,
   "metadata": {},
   "outputs": [],
   "source": [
    "### Descobre o num do PC.png\n",
    "\n",
    "import random\n",
    "\n",
    "min = 0\n",
    "max = 100\n",
    "answer = random.randint(min, max)\n",
    "\n",
    "guess = int(input(f'O meu número está entre {min} e {max}. Tente descobrir qual é:\\n'))\n",
    "\n",
    "num_tentativas = 1\n",
    "\n",
    "while guess != answer:\n",
    "    if guess < answer:\n",
    "        guess = int(input('O meu número é maior. Tenta de novo:'))\n",
    "        num_tentativas += 1\n",
    "    if guess > answer:\n",
    "        guess = int(input('O meu número é menor. Tenta de novo:'))\n",
    "        num_tentativas += 1\n",
    "\n",
    "print(f'Acertaste em {num_tentativas} tentativas!')\n"
   ]
  },
  {
   "cell_type": "code",
   "execution_count": null,
   "metadata": {},
   "outputs": [],
   "source": [
    "### PC descobre o meu num.png\n",
    "\n",
    "import random\n",
    "\n",
    "num_tentativas = 0\n",
    "min = 0\n",
    "max = 100\n",
    "\n",
    "finnished = False\n",
    "\n",
    "pc_guess = random.randint(min, max)\n",
    "\n",
    "while not finnished:\n",
    "    answer = input(f'A minha tentativa é {pc_guess}. Está correto (=), demasiado grande (+) ou pequeno (-)?')\n",
    "    if answer == '=':\n",
    "        num_tentativas += 1\n",
    "        print(f'Acertei em {num_tentativas} tentativas!')\n",
    "        finnished = True\n",
    "    elif answer == '+':\n",
    "        max = pc_guess - 1\n",
    "        pc_guess = random.randint(min, max)\n",
    "        num_tentativas += 1\n",
    "    elif answer == '-':\n",
    "        min = pc_guess + 1\n",
    "        pc_guess = random.randint(min, max)\n",
    "        num_tentativas += 1\n",
    "    else:\n",
    "        print('Opção inválida')\n",
    "        answer = input(f'A minha tentativa é {pc_guess}. Está correto (=), demasiado grande (+) ou pequeno (-)?')\n"
   ]
  }
 ],
 "metadata": {
  "kernelspec": {
   "display_name": "Python 3",
   "language": "python",
   "name": "python3"
  },
  "language_info": {
   "codemirror_mode": {
    "name": "ipython",
    "version": 3
   },
   "file_extension": ".py",
   "mimetype": "text/x-python",
   "name": "python",
   "nbconvert_exporter": "python",
   "pygments_lexer": "ipython3",
   "version": "3.11.5"
  }
 },
 "nbformat": 4,
 "nbformat_minor": 2
}
