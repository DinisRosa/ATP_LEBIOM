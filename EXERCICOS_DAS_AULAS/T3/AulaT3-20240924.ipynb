{
 "cells": [
  {
   "cell_type": "markdown",
   "metadata": {},
   "source": [
    "# Aula Teórica 3 (guião)\n",
    "### Semana de 23 a 27 de Setembro de 2024\n",
    "### José Carlos Ramalho\n",
    "### Sinopsis:\n",
    "* Estruturas cíclicas;\n",
    "* Definição de funções;\n",
    "* Strings;\n",
    "* Listas."
   ]
  },
  {
   "cell_type": "markdown",
   "metadata": {},
   "source": [
    "## Discernimento Ah!: As caixas \n",
    "\n",
    "* 11 caixas grandes vazias são colocadas numa mesa;\n",
    "* algumas caixas grandes são selecionadas e cada uma é preenchida com 8 caixas médias vazias;\n",
    "* algumas caixas médias são selecionadas e cada uma é preenchida com 8 caixas pequenas vazias;\n",
    "* temos 102 caixas vazias na mesa;\n",
    "* quantas caixas estão na mesa?"
   ]
  },
  {
   "cell_type": "markdown",
   "metadata": {},
   "source": [
    "### Strings\n",
    "\n",
    "* Construtor: \"...\" ou '...';\n",
    "* Multilinha: \"\"\"...\"\"\" ou '''...''';\n",
    "* Acesso a uma posição: `frase[i]`;\n",
    "* Percorrer uma string: `for c in frase:`;\n",
    "* Comprimento duma string: `...len(frase)...`;\n",
    "* Verificar se contem uma parte: `if \"dia\" in frase...`;\n",
    "* Verificar se não contem uma parte: `if \"dia\" not in frase...`;\n",
    "* Fatiar uma string: `frase[start:end]`;\n",
    "    - do início: `frase[:end]`;\n",
    "    - até ao fim: `frase[start:]`;\n",
    "    - índices negativos.\n",
    "* Conversão para maiúsculas: `frase.upper()`;\n",
    "* Conversão para minúsculas: `frase.lower()`;\n",
    "* Remover espaço branco do início e do fim: `frase.strip()`;\n",
    "* Substituir partes: `frase.replace(\"Hoje\", \"Today\")`;\n",
    "* Partir uma string em bocados usando um separador: `frase.split(\"#\")`;\n",
    "* Concatenação de 2 strings: `s1 + s2`.\n",
    "\n",
    "\n"
   ]
  },
  {
   "cell_type": "code",
   "execution_count": null,
   "metadata": {},
   "outputs": [],
   "source": [
    "s1 = \"Hoje está um dia de sol\"\n",
    "print(s1[5:9])\n",
    "print(s1[:9])\n",
    "print(s1[10:])\n",
    "print(s1[-3:])\n",
    "print(s1[-3])"
   ]
  },
  {
   "cell_type": "markdown",
   "metadata": {},
   "source": [
    "### Percorrer uma lista: `for c in frase`"
   ]
  },
  {
   "cell_type": "code",
   "execution_count": null,
   "metadata": {},
   "outputs": [],
   "source": [
    "s1 = \"Hoje está um dia de sol\"\n",
    "\n",
    "def showString(s):\n",
    "    pos = 0\n",
    "    for carater in s:\n",
    "        print(pos, carater)\n",
    "        pos = pos + 1\n",
    "\n",
    "showString(s1)"
   ]
  },
  {
   "cell_type": "code",
   "execution_count": null,
   "metadata": {},
   "outputs": [],
   "source": [
    "def showStringV2(s):\n",
    "    for (pos, c) in enumerate(s):\n",
    "        print(pos, c)\n",
    "\n",
    "showStringV2(\"Hoje está um dia de sol\")"
   ]
  },
  {
   "cell_type": "code",
   "execution_count": null,
   "metadata": {},
   "outputs": [],
   "source": [
    "# Strings\n",
    "frase = \"A alma humana é vítima tão inevitável da dor que sofre a dor da surpresa dolorosa\"\n",
    "frase2 = 'A alma humana...'\n",
    "frase3 = \"\"\" A alma humana é vítima tão inevitável da dor \n",
    "que sofre a dor da surpresa \n",
    "dolorosa   \"\"\"\n",
    "print(frase, type(frase))\n",
    "print(frase2, type(frase2))\n",
    "print(frase3, type(frase3))\n",
    "\n",
    "showString(frase3)"
   ]
  },
  {
   "cell_type": "code",
   "execution_count": null,
   "metadata": {},
   "outputs": [],
   "source": [
    "# Acesso a um caráter\n",
    "print(frase[7])\n",
    "# Acesso a uma fatia\n",
    "print(frase[2:6])\n",
    "print(frase[2:])\n",
    "print(frase[:6])\n",
    "print(frase[-8:])\n",
    "# A contar do fim: índices negativos\n",
    "print(frase[:-20])"
   ]
  },
  {
   "cell_type": "code",
   "execution_count": null,
   "metadata": {},
   "outputs": [],
   "source": [
    "s3 = \"Olá\\nTurma\\nde\\n2024\"\n",
    "print(s3)"
   ]
  },
  {
   "cell_type": "markdown",
   "metadata": {},
   "source": [
    "## Comprimento (`len`) e contagens"
   ]
  },
  {
   "cell_type": "code",
   "execution_count": null,
   "metadata": {},
   "outputs": [],
   "source": [
    "frase = \"A alma humana é vítima tão inevitável da dor que sofre a dor da surpresa dolorosa\"\n",
    "\n",
    "# Comprimento\n",
    "print(\"A frase tem \", len(frase), \" carateres.\")\n",
    "\n",
    "# Contar os a's \n",
    "contador = 0\n",
    "i = 0\n",
    "while i < len(frase):\n",
    "    if frase[i] == \"a\" or frase[i] == 'A':\n",
    "        contador = contador + 1\n",
    "    i = i + 1\n",
    "print(\"O número de a é \", contador)\n",
    "\n",
    "contador = 0\n",
    "for letra in frase:\n",
    "    if letra == \"a\" or letra == 'A':\n",
    "        contador = contador + 1\n",
    "print(\"O número de a é \", contador)"
   ]
  },
  {
   "cell_type": "markdown",
   "metadata": {},
   "source": [
    "## `in` e `not in`"
   ]
  },
  {
   "cell_type": "code",
   "execution_count": null,
   "metadata": {},
   "outputs": [],
   "source": [
    "# Verificar se uma palavra está na frase\n",
    "if \"alma\" in frase:\n",
    "    print(\"Alma stá!\")\n",
    "\n",
    "if \"inferno\" not in frase:\n",
    "    print(\"Inferno não está!\")\n",
    " "
   ]
  },
  {
   "cell_type": "markdown",
   "metadata": {},
   "source": [
    "### Desafio: contas as vogais numa frase"
   ]
  },
  {
   "cell_type": "code",
   "execution_count": null,
   "metadata": {},
   "outputs": [],
   "source": [
    "# Contar as vogais numa frase\n",
    "def contarVogais(f):\n",
    "    total = 0\n",
    "    for char in f:\n",
    "        if char in 'aáàãâeéèêiíìîoóòõôuúùû'.lower():\n",
    "            total += 1\n",
    "    return total\n",
    "\n",
    "frase = \"A alma humana é vítima tão inevitável da dor que sofre a dor da surpresa dolorosa\"\n",
    "print(contarVogais(frase))"
   ]
  },
  {
   "cell_type": "markdown",
   "metadata": {},
   "source": [
    "## Partir uma frase em subfrases: `split`"
   ]
  },
  {
   "cell_type": "code",
   "execution_count": null,
   "metadata": {},
   "outputs": [],
   "source": [
    "# Partir uma string em substrings usando um ou mais caráteres como separador\n",
    "frase = \"A alma humana é vítima tão inevitável da dor que sofre a dor da surpresa dolorosa\"\n",
    "palavras = frase.split(\" \")\n",
    "print(palavras)\n",
    "# O resultado é uma lista, vamos ver à frente...\n",
    "emd = \"Ana Cristina;17;Patinagem;Apto\"\n",
    "campos = emd.split(\";\")\n",
    "print(campos)"
   ]
  },
  {
   "cell_type": "code",
   "execution_count": null,
   "metadata": {},
   "outputs": [],
   "source": [
    "aluno = \"Paulo Cordeiro:::Eng. Biomédica:::3\"\n",
    "campos = aluno.split(\":::\")\n",
    "print(campos)"
   ]
  },
  {
   "cell_type": "markdown",
   "metadata": {},
   "source": [
    "### Desafio: quantos alunos do curso \"ENGBIOM\" estão inscritos"
   ]
  },
  {
   "cell_type": "code",
   "execution_count": null,
   "metadata": {},
   "outputs": [],
   "source": [
    "turma = [\n",
    "    \"a1,Aysha Melanie Gilberto,LEI,12,8,19,8\",\n",
    "    \"a2,Igor André Cantanhede,ENGFIS,12,16,18,20\",\n",
    "    \"a3,Laurénio Narciso,ENGFIS,8,14,15,14\",\n",
    "    \"a4,Jasnoor Casegas,LCC,14,20,17,11\",\n",
    "    \"a5,Tawseef Rebouças,ENGBIOM,13,14,13,17\",\n",
    "    \"a6,Eryk Clementino,LEI,10,19,11,14\",\n",
    "    \"a7,Ianna Noivo,ENGBIOM,15,15,17,16\",\n",
    "    \"a8,Ayla Thaissa Reina,ENGBIOM,12,8,8,18\",\n",
    "    \"a9,Cássia Viviane Coitã,ENGFIS,19,9,14,10\",\n",
    "    \"a10,Koby Vindima,LEI,9,14,20,13\",\n",
    "    \"a11,Gustavo Martim Hernandez,ENGBIOM,11,8,14,11\",\n",
    "    \"a12,Siddarta Beiriz,LEI,17,10,16,16\",\n",
    "    \"a13,Daniela Patrícia Montes,ENGBIOM,15,15,18,19\",\n",
    "    \"a14,Kaylla Pessego,LCC,10,14,17,15\",\n",
    "    \"a15,Bianca Cristina Primitivo,ENGBIOM,16,9,18,10\"\n",
    "]\n",
    "\n",
    "#1 forma\n",
    "ser_BIOM = []\n",
    "for person in turma:\n",
    "    if 'ENGBIOM' in person:\n",
    "        ser_BIOM.append(person)\n",
    "\n",
    "for person in ser_BIOM:\n",
    "    print(person)\n",
    "print(len(ser_BIOM))\n",
    "\n",
    "#2 forma\n",
    "contador = 0\n",
    "for person in turma:\n",
    "    \n",
    "    if 'ENGBIOM' == person.split(',')[2]:\n",
    "        contador += 1\n",
    "print(contador)"
   ]
  },
  {
   "cell_type": "markdown",
   "metadata": {},
   "source": [
    "## Conversão para maiúsculas e minúsculas"
   ]
  },
  {
   "cell_type": "code",
   "execution_count": null,
   "metadata": {},
   "outputs": [],
   "source": [
    "cor = \"verde\"\n",
    "novacor = cor.upper()\n",
    "print(novacor)\n",
    "print(novacor.lower())"
   ]
  },
  {
   "cell_type": "markdown",
   "metadata": {},
   "source": [
    "## Normalização de espaços"
   ]
  },
  {
   "cell_type": "code",
   "execution_count": null,
   "metadata": {},
   "outputs": [],
   "source": [
    "nome = \"    José      António    \"\n",
    "print(\":\" + nome.strip() + \":\")\n",
    "lnome = nome.split()\n",
    "print(lnome)"
   ]
  },
  {
   "cell_type": "markdown",
   "metadata": {},
   "source": [
    "## Substituição de partes da string"
   ]
  },
  {
   "cell_type": "code",
   "execution_count": null,
   "metadata": {},
   "outputs": [],
   "source": [
    "discurso = \"Hoje já choveu\"\n",
    "nova = discurso.replace(\"Hoje\", \"Today\")\n",
    "print(nova)\n",
    "# Concatenação\n",
    "duas = discurso + \". \" + nova\n",
    "print(duas)\n"
   ]
  },
  {
   "cell_type": "markdown",
   "metadata": {},
   "source": [
    "## Geração de números aleatórios"
   ]
  },
  {
   "cell_type": "code",
   "execution_count": null,
   "metadata": {},
   "outputs": [],
   "source": [
    "# Geração de números aleatórios\n",
    "import random \n",
    "\n",
    "i = 0\n",
    "while i < 10:\n",
    "    print(random.randrange(1,101))\n",
    "    print(random.randint(1,50))\n",
    "    i = i + 1"
   ]
  },
  {
   "cell_type": "markdown",
   "metadata": {},
   "source": [
    "### Listas\n",
    "\n",
    "Uma lista é uma sequência finita e ordenada de elementos. Um elemento pode ser qualquer coisa."
   ]
  },
  {
   "cell_type": "markdown",
   "metadata": {},
   "source": [
    "#### Construtor: `[]`"
   ]
  },
  {
   "cell_type": "code",
   "execution_count": null,
   "metadata": {},
   "outputs": [],
   "source": [
    "# lista vazia\n",
    "l = []\n",
    "# lista homogénea\n",
    "l2 = [1,2,3,4,5]\n",
    "# lista heterogénea\n",
    "l3 = [11, \"onze\", 12, \"doze\"]\n",
    "print(len(l3))\n",
    "\n",
    "# Somar os elementos de uma lista\n",
    "soma = 0\n",
    "for n in l2:\n",
    "    soma += n\n",
    "print(soma)"
   ]
  },
  {
   "cell_type": "markdown",
   "metadata": {},
   "source": [
    "### Desafio: Especifique uma função que dada uma lista de inteiros devolve uma lista dos seu quadrados"
   ]
  },
  {
   "cell_type": "code",
   "execution_count": null,
   "metadata": {},
   "outputs": [],
   "source": [
    "def quadrados(lista):    \n",
    "    return [n*n for n in lista]\n",
    "\n",
    "print(quadrados([2,3,4,5]))"
   ]
  },
  {
   "cell_type": "markdown",
   "metadata": {},
   "source": [
    "## Listas em compreensão"
   ]
  },
  {
   "cell_type": "code",
   "execution_count": null,
   "metadata": {},
   "outputs": [],
   "source": [
    "letras = [l for l in \"A Maria tem um namorado\"]\n",
    "print(letras)"
   ]
  },
  {
   "cell_type": "markdown",
   "metadata": {},
   "source": [
    "#### Sintaxe: `[expressão for elem in lista]`"
   ]
  },
  {
   "cell_type": "code",
   "execution_count": null,
   "metadata": {},
   "outputs": [],
   "source": [
    "quadrados = [n*n for n in range(20)]\n",
    "print(quadrados)"
   ]
  },
  {
   "cell_type": "markdown",
   "metadata": {},
   "source": [
    "#### Sintaxe: `[expressão if condição else expressão2 for elem in lista]`"
   ]
  },
  {
   "cell_type": "code",
   "execution_count": null,
   "metadata": {},
   "outputs": [],
   "source": [
    "parImpar = [(\"Par\", y) if y%2 == 0 else (\"Ímpar\", y) for y in range(1,101)]\n",
    "print(parImpar)"
   ]
  },
  {
   "cell_type": "markdown",
   "metadata": {},
   "source": [
    "#### Exercício: Especifica uma lista em compreensão com os inteiros entre 0 e 1000 divisíveis por 2 e por 7"
   ]
  },
  {
   "cell_type": "code",
   "execution_count": null,
   "metadata": {},
   "outputs": [],
   "source": [
    "# ..."
   ]
  },
  {
   "cell_type": "markdown",
   "metadata": {},
   "source": [
    "### Desafio: criação automática de uma lista\n",
    "\n",
    "Especifica uma função que gera aleatoriamente uma lista de números inteiros, entre 1 e 1000, de tamanho `N`."
   ]
  },
  {
   "cell_type": "code",
   "execution_count": null,
   "metadata": {},
   "outputs": [],
   "source": [
    "# Criação automática de uma lista \n",
    "import random \n",
    "# from random import randrange\n",
    "\n",
    "def criaListaInt(N):\n",
    "    res = []\n",
    "\n",
    "    return res"
   ]
  },
  {
   "cell_type": "code",
   "execution_count": null,
   "metadata": {},
   "outputs": [],
   "source": [
    "# Gerar uma lista com 20 números aleatórios no intervalo [1::100]"
   ]
  },
  {
   "cell_type": "markdown",
   "metadata": {},
   "source": [
    "### Desafio: Escrever no monitor uma tabela com a média de cada aluno"
   ]
  },
  {
   "cell_type": "markdown",
   "metadata": {},
   "source": [
    "Aluno = nome, id, notas\n",
    "\n",
    "nome = String\n",
    "\n",
    "id = String\n",
    "\n",
    "notas = [float]\n",
    "\n",
    "Aluno = [id, nome, notas]\n",
    "\n",
    "Turma = [Aluno]"
   ]
  },
  {
   "cell_type": "code",
   "execution_count": null,
   "metadata": {},
   "outputs": [],
   "source": [
    "aluno1 = [\"A2749\",\"José António\",[13,17]]\n",
    "aluno2 = [\"A3249\",\"Mafalda\",[14,15]]\n",
    "aluno3 = [\"A53478\",\"Josefina\",[11,12]]\n",
    "\n",
    "turma1 = [aluno1, aluno2, aluno3]\n"
   ]
  },
  {
   "cell_type": "markdown",
   "metadata": {},
   "source": [
    "#### Exercícios"
   ]
  },
  {
   "cell_type": "code",
   "execution_count": null,
   "metadata": {},
   "outputs": [],
   "source": [
    "# Lista com os inteiros no intervalo [1,100]\n",
    "\n",
    "\n",
    "\n",
    "# Lista com os inteiros divisíveis por 7 no intervalo [1,1000]\n",
    "\n",
    "\n"
   ]
  },
  {
   "cell_type": "code",
   "execution_count": null,
   "metadata": {},
   "outputs": [],
   "source": [
    "frase = \"A alma humana é vítima tão inevitável da dor que sofre a dor da surpresa dolorosa\""
   ]
  },
  {
   "cell_type": "markdown",
   "metadata": {},
   "source": [
    "#### Acrescentar elementos numa lista"
   ]
  },
  {
   "cell_type": "code",
   "execution_count": null,
   "metadata": {},
   "outputs": [],
   "source": [
    "pares100 = []\n",
    "i = 0\n",
    "while i <= 100:\n",
    "    pares100.append(i)\n",
    "    i = i+2\n",
    "print(pares100)\n",
    "\n",
    "# Fazer o mesmo em compreensão"
   ]
  },
  {
   "cell_type": "markdown",
   "metadata": {},
   "source": [
    "#### Apagar o conteúdo duma lista"
   ]
  },
  {
   "cell_type": "code",
   "execution_count": null,
   "metadata": {},
   "outputs": [],
   "source": [
    "pares100.clear()\n",
    "print(pares100)"
   ]
  },
  {
   "cell_type": "markdown",
   "metadata": {},
   "source": [
    "#### Copiar uma lista"
   ]
  },
  {
   "cell_type": "code",
   "execution_count": null,
   "metadata": {},
   "outputs": [],
   "source": [
    "cores = [\"vermelho\", \"verde\", \"azul\"]\n",
    "cores2 = cores.copy() + [\"amarelo\"]\n",
    "print(cores2)\n",
    "print(cores2.index(\"verde\"))"
   ]
  },
  {
   "cell_type": "code",
   "execution_count": null,
   "metadata": {},
   "outputs": [],
   "source": [
    "coresIndex = []\n",
    "for i in range(len(cores2)):\n",
    "    coresIndex.append((i, cores2[i]))\n",
    "print(coresIndex)"
   ]
  },
  {
   "cell_type": "markdown",
   "metadata": {},
   "source": [
    "#### Inserir um elemento numa determinada posição"
   ]
  },
  {
   "cell_type": "code",
   "execution_count": null,
   "metadata": {},
   "outputs": [],
   "source": [
    "cores2.insert(1, \"roxo\")\n",
    "print(cores2)"
   ]
  },
  {
   "cell_type": "markdown",
   "metadata": {},
   "source": [
    "#### Remover a primeira ocorrência de um elemento"
   ]
  },
  {
   "cell_type": "code",
   "execution_count": null,
   "metadata": {},
   "outputs": [],
   "source": [
    "cores2 = cores2 + [\"verde\", \"verde\"]\n",
    "print(cores2)\n",
    "cores2.remove(\"verde\")\n",
    "print(cores2)"
   ]
  },
  {
   "cell_type": "markdown",
   "metadata": {},
   "source": [
    "#### Ordem e ordenação"
   ]
  },
  {
   "cell_type": "code",
   "execution_count": null,
   "metadata": {},
   "outputs": [],
   "source": [
    "lista = [x for x in range(1,21)]\n",
    "print(lista)\n",
    "lista.reverse()\n",
    "print(lista)\n",
    "lista.sort()\n",
    "print(lista)"
   ]
  },
  {
   "cell_type": "markdown",
   "metadata": {},
   "source": [
    "#### Exercício: Vamos definir uma função para calcular o maior da lista                                                                                                                                                                                                                                                                                                                                             "
   ]
  }
 ],
 "metadata": {
  "kernelspec": {
   "display_name": "Python 3",
   "language": "python",
   "name": "python3"
  },
  "language_info": {
   "codemirror_mode": {
    "name": "ipython",
    "version": 3
   },
   "file_extension": ".py",
   "mimetype": "text/x-python",
   "name": "python",
   "nbconvert_exporter": "python",
   "pygments_lexer": "ipython3",
   "version": "3.11.5"
  }
 },
 "nbformat": 4,
 "nbformat_minor": 2
}
