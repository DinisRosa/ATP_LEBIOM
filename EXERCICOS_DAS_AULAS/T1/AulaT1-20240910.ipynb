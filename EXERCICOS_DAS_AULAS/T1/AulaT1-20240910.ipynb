{
 "cells": [
  {
   "cell_type": "markdown",
   "metadata": {},
   "source": [
    "# Aula Teórica 1 (guião)\n",
    "### Semana de 9 a 13 de Setembro de 2024\n",
    "### José Carlos Ramalho\n",
    "### Sinopsis:\n",
    "* Input e output;\n",
    "* Tipos básicos: reais e inteiros;\n",
    "* Operadores aritméticos, lógicos e relacionais;\n",
    "* Variável;\n",
    "* Estruturas condicionais."
   ]
  },
  {
   "cell_type": "markdown",
   "metadata": {},
   "source": [
    "## Output: `print(...)`"
   ]
  },
  {
   "cell_type": "code",
   "execution_count": 6,
   "metadata": {},
   "outputs": [
    {
     "ename": "SyntaxError",
     "evalue": "invalid syntax. Perhaps you forgot a comma? (1171637346.py, line 2)",
     "output_type": "error",
     "traceback": [
      "\u001b[0;36m  Cell \u001b[0;32mIn[6], line 2\u001b[0;36m\u001b[0m\n\u001b[0;31m    print(Olá turma de de 2024!)\u001b[0m\n\u001b[0m          ^\u001b[0m\n\u001b[0;31mSyntaxError\u001b[0m\u001b[0;31m:\u001b[0m invalid syntax. Perhaps you forgot a comma?\n"
     ]
    }
   ],
   "source": [
    "# Tenta executar esta célula\n",
    "print(Olá turma de de 2024!)"
   ]
  },
  {
   "cell_type": "code",
   "execution_count": null,
   "metadata": {},
   "outputs": [],
   "source": [
    "# E agora esta\n",
    "print(\"Olá turma de de 2024!\")"
   ]
  },
  {
   "cell_type": "markdown",
   "metadata": {},
   "source": [
    "## Inteiros: `12`, `-2`, `+45`"
   ]
  },
  {
   "cell_type": "code",
   "execution_count": null,
   "metadata": {},
   "outputs": [
    {
     "name": "stdout",
     "output_type": "stream",
     "text": [
      "12\n",
      "-2\n",
      "45\n"
     ]
    }
   ],
   "source": [
    "print(12)\n",
    "print(-2)\n",
    "print(+45)"
   ]
  },
  {
   "cell_type": "markdown",
   "metadata": {},
   "source": [
    "## Reais: `-5.3`, `-35E2`, ..."
   ]
  },
  {
   "cell_type": "code",
   "execution_count": null,
   "metadata": {},
   "outputs": [
    {
     "name": "stdout",
     "output_type": "stream",
     "text": [
      "-5.3\n",
      "0.34\n"
     ]
    }
   ],
   "source": [
    "print(-5.3)\n",
    "print(34E-2)"
   ]
  },
  {
   "cell_type": "markdown",
   "metadata": {},
   "source": [
    "## Operações aritméticas: `+`, `-`, `/`, `*`, `//`, `%`, `**`"
   ]
  },
  {
   "cell_type": "code",
   "execution_count": null,
   "metadata": {},
   "outputs": [
    {
     "name": "stdout",
     "output_type": "stream",
     "text": [
      "4\n",
      "6.36\n",
      "20\n"
     ]
    }
   ],
   "source": [
    "print(2+2)\n",
    "print(34E-2 * 4 +5)\n",
    "print((2+2)*5)"
   ]
  },
  {
   "cell_type": "markdown",
   "metadata": {},
   "source": [
    "## Operações relacionais: `<`, `>`, `==`, `!=`, `<=`, `>=`"
   ]
  },
  {
   "cell_type": "code",
   "execution_count": 7,
   "metadata": {},
   "outputs": [
    {
     "name": "stdout",
     "output_type": "stream",
     "text": [
      "True\n",
      "False\n"
     ]
    }
   ],
   "source": [
    "print(0.5 == 5E-1)\n",
    "print(0.5 != 5E-1)"
   ]
  },
  {
   "cell_type": "markdown",
   "metadata": {},
   "source": [
    "## Operações lógicas: `and`, `or` e `not`"
   ]
  },
  {
   "cell_type": "code",
   "execution_count": 8,
   "metadata": {},
   "outputs": [
    {
     "name": "stdout",
     "output_type": "stream",
     "text": [
      "False\n"
     ]
    }
   ],
   "source": [
    "print((0.5 == 5E-1) and (0.5 != 5E-1))"
   ]
  },
  {
   "cell_type": "markdown",
   "metadata": {},
   "source": [
    "## Variável: espaço de memória associado a um identificador"
   ]
  },
  {
   "cell_type": "code",
   "execution_count": 9,
   "metadata": {},
   "outputs": [
    {
     "name": "stdout",
     "output_type": "stream",
     "text": [
      "25392.0\n"
     ]
    }
   ],
   "source": [
    "total = 14 * 1800 + 9.6 *20\n",
    "print(total)"
   ]
  },
  {
   "cell_type": "code",
   "execution_count": null,
   "metadata": {},
   "outputs": [],
   "source": [
    "nome = \"Fernando Pessoa\"\n",
    "print(nome)"
   ]
  },
  {
   "cell_type": "markdown",
   "metadata": {},
   "source": [
    "## Input de dados: `input(...)`"
   ]
  },
  {
   "cell_type": "code",
   "execution_count": null,
   "metadata": {},
   "outputs": [],
   "source": [
    "nome = input(\"Introduza o seu nome: \")\n",
    "print(\"Olá, \" + nome)"
   ]
  },
  {
   "cell_type": "code",
   "execution_count": 10,
   "metadata": {},
   "outputs": [
    {
     "name": "stdout",
     "output_type": "stream",
     "text": [
      "77\n"
     ]
    }
   ],
   "source": [
    "# Tenta executar \n",
    "num = input(\"Introduza um número inteiro: \")\n",
    "print(num * 2)"
   ]
  },
  {
   "cell_type": "code",
   "execution_count": 11,
   "metadata": {},
   "outputs": [
    {
     "name": "stdout",
     "output_type": "stream",
     "text": [
      "14\n"
     ]
    }
   ],
   "source": [
    "# E agora...\n",
    "num = int(input(\"Introduza um número inteiro: \"))\n",
    "print(num * 2)"
   ]
  },
  {
   "cell_type": "markdown",
   "metadata": {},
   "source": [
    "Uma variável pode ser usada para armazenar valores mais do que uma vez, o que prevalece é o último valor armazenado."
   ]
  },
  {
   "cell_type": "code",
   "execution_count": null,
   "metadata": {},
   "outputs": [],
   "source": [
    "morada = input(\"Qual é a tua morada? \")\n",
    "print(\"Então habitas em \" + morada)\n",
    "\n",
    "morada = input(\"Introduz a tua nova morada: \")\n",
    "print(\"Então mudasre para \" + morada)"
   ]
  },
  {
   "cell_type": "markdown",
   "metadata": {},
   "source": [
    "Um exemplo um pouco mais complexo:"
   ]
  },
  {
   "cell_type": "code",
   "execution_count": 13,
   "metadata": {},
   "outputs": [
    {
     "name": "stdout",
     "output_type": "stream",
     "text": [
      "Preencha os seguintes campos: \n",
      "Olá Ana, registamos a sua idade como sendo 13.\n",
      "Olá Ana, registamos a sua idade como sendo 13.\n"
     ]
    }
   ],
   "source": [
    "print(\"Preencha os seguintes campos: \")\n",
    "nome = input(\"Introduza o nome: \")\n",
    "idade = input(\"Introduza a sua idade: \")\n",
    "print(\"Olá \" + nome + \", registamos a sua idade como sendo \" + idade + \".\")\n",
    "print(f\"Olá {nome}, registamos a sua idade como sendo {idade}.\")"
   ]
  },
  {
   "cell_type": "markdown",
   "metadata": {},
   "source": [
    "### Exercício: calcular a média de 3 números"
   ]
  },
  {
   "cell_type": "code",
   "execution_count": null,
   "metadata": {},
   "outputs": [],
   "source": [
    "num1 = 2.5\n",
    "num2 = -1.25\n",
    "num3 = 3.62\n",
    "\n",
    "# ???"
   ]
  },
  {
   "cell_type": "markdown",
   "metadata": {},
   "source": [
    "### Exercício: imprimir fórmulas e resultados"
   ]
  },
  {
   "cell_type": "code",
   "execution_count": null,
   "metadata": {},
   "outputs": [],
   "source": [
    "x = 12\n",
    "y = 11\n",
    "\n",
    "# Neste caso o programa deverá imprimir:\n",
    "# 12 - 11 = 1\n",
    "# 12 + 11 = 23 \n",
    "# 12 * 11 = 132\n",
    "# 12 / 11 = 1.???\n",
    "\n",
    "# Se x ou y forem alterados o resultado impresso deverá mudar de acordo "
   ]
  },
  {
   "cell_type": "markdown",
   "metadata": {},
   "source": [
    "### Exercício: lê dois números e escreve na saída a sua soma e o seu produto"
   ]
  },
  {
   "cell_type": "code",
   "execution_count": null,
   "metadata": {},
   "outputs": [],
   "source": [
    "# Solução:"
   ]
  },
  {
   "cell_type": "markdown",
   "metadata": {},
   "source": [
    "## Estrutura condicional: `if` ... `elif` ... `else` "
   ]
  },
  {
   "cell_type": "code",
   "execution_count": null,
   "metadata": {},
   "outputs": [],
   "source": [
    "# Estrutura condicional \n",
    "# if cond1:\n",
    "#   acao1\n",
    "# elif cond2: \n",
    "#   acao2\n",
    "# ...\n",
    "# else:\n",
    "#   acaon"
   ]
  },
  {
   "cell_type": "markdown",
   "metadata": {},
   "source": [
    "### Exercício: Orwell \n",
    "\n",
    "Escreve um programa que lê um número e se esse número for 1984 escreve na saída \"Orwell\"."
   ]
  },
  {
   "cell_type": "code",
   "execution_count": null,
   "metadata": {},
   "outputs": [],
   "source": [
    "# Solução: "
   ]
  },
  {
   "cell_type": "markdown",
   "metadata": {},
   "source": [
    "### Exercício: Par ou Ímpar \n",
    "\n",
    "Escreve um programa que lê um número e escreve na saída \"Par\" ou \"Ímpar\"."
   ]
  },
  {
   "cell_type": "markdown",
   "metadata": {},
   "source": [
    "### Exercício: Calculadora \n",
    "\n",
    "Escreve um programa que lê dois números e uma operação (\"soma\", \"sub\", \"mul\", \"div\") e escreve na saída o resultado."
   ]
  },
  {
   "cell_type": "code",
   "execution_count": null,
   "metadata": {},
   "outputs": [],
   "source": [
    "# Solução: "
   ]
  },
  {
   "cell_type": "markdown",
   "metadata": {},
   "source": [
    "### Exercício: Condicional mais complicado...\n",
    "\n",
    "![condicional-complexo](condicional-complexo.png)"
   ]
  },
  {
   "cell_type": "code",
   "execution_count": null,
   "metadata": {},
   "outputs": [],
   "source": [
    "# Solução: "
   ]
  },
  {
   "cell_type": "markdown",
   "metadata": {},
   "source": [
    "### Exercício: Ordem das letras\n",
    "\n",
    "Escreve um programa que lê três letras e vai imprimir qual das três letras estaria no meio se as letras estivessem em ordem alfabética.\n",
    "\n",
    "Vamos assumir que as letras serão todas maiúsculas ou todas minúsculas."
   ]
  },
  {
   "cell_type": "code",
   "execution_count": null,
   "metadata": {},
   "outputs": [],
   "source": [
    "# Solução: "
   ]
  },
  {
   "cell_type": "markdown",
   "metadata": {},
   "source": [
    "## Estrutura cíclica: `while` ..."
   ]
  },
  {
   "cell_type": "code",
   "execution_count": null,
   "metadata": {},
   "outputs": [],
   "source": [
    "# Estrutura cíclica while\n",
    "# while cond:\n",
    "#   acao"
   ]
  },
  {
   "cell_type": "markdown",
   "metadata": {},
   "source": [
    "### Exercício: Sair de uma aplicação \n",
    "\n",
    "Escreve um programa que imprime \"Olá! Deseja sair?\" e lê a resposta do utilizador que poderá responder \"s\" ou \"n\". Se a resposta é \"s\" o programa deverá terminar, caso contrário deverá voltar a fazer a mesma pergunta e repetir o processamento."
   ]
  },
  {
   "cell_type": "code",
   "execution_count": null,
   "metadata": {},
   "outputs": [],
   "source": [
    "# Solução:"
   ]
  },
  {
   "cell_type": "markdown",
   "metadata": {},
   "source": [
    "### Exercício: Calculadora (v2.0)\n",
    "\n",
    "Usa o programa do exercício anterior e enriquece-o com o código anterior da calculadora. \n",
    "Em cada iteração do ciclo, lê dois operandos e uma operação, apresenta o resultado, e pergunta ao utilizador se quer continuar a usar a fazer mais operações."
   ]
  },
  {
   "cell_type": "code",
   "execution_count": null,
   "metadata": {},
   "outputs": [],
   "source": [
    "# Solução"
   ]
  },
  {
   "cell_type": "markdown",
   "metadata": {},
   "source": [
    "### Exercício: Contador decrescente \n",
    "\n",
    "Escreve um programa que lê um número inteiro e imprime todos os inteiros entre esse número e 0 de forma decrescente."
   ]
  },
  {
   "cell_type": "code",
   "execution_count": null,
   "metadata": {},
   "outputs": [],
   "source": [
    "# Solução: "
   ]
  }
 ],
 "metadata": {
  "kernelspec": {
   "display_name": "Python 3",
   "language": "python",
   "name": "python3"
  },
  "language_info": {
   "codemirror_mode": {
    "name": "ipython",
    "version": 3
   },
   "file_extension": ".py",
   "mimetype": "text/x-python",
   "name": "python",
   "nbconvert_exporter": "python",
   "pygments_lexer": "ipython3",
   "version": "3.12.0"
  }
 },
 "nbformat": 4,
 "nbformat_minor": 2
}
