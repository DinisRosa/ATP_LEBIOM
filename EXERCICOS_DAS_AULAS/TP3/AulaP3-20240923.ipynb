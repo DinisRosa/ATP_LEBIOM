{
 "cells": [
  {
   "cell_type": "markdown",
   "id": "1e545158",
   "metadata": {},
   "source": [
    "# Aula Prática 3 (guião)\n",
    "### Semana de 23 a 27 de Setembro de 2024\n",
    "### José Carlos Ramalho e Luís Cunha\n",
    "### Sinopsis:\n",
    "Algoritmos de cálculo numérico envolvendo estruturas condicionais (if-elif-else) e cíclicas (while)."
   ]
  },
  {
   "cell_type": "markdown",
   "id": "e38d18c4-d7d7-4fea-9bc6-e3f3c903386b",
   "metadata": {},
   "source": [
    "### Exercício 1: Soma de N números\n",
    "- Leia um número N;\n",
    "- Leia N números;\n",
    "- Imprima a soma dos N números."
   ]
  },
  {
   "cell_type": "code",
   "execution_count": 1,
   "id": "af973146-3bb4-4fa8-ba6c-b887b79ccff8",
   "metadata": {},
   "outputs": [],
   "source": [
    "# Solução do exercício 1"
   ]
  },
  {
   "cell_type": "markdown",
   "id": "13b62657",
   "metadata": {},
   "source": [
    "### Exercício 2: Números pares\n",
    "- Leia um número N;\n",
    "- Leia N números;\n",
    "- Imprima os números pares na saída."
   ]
  },
  {
   "cell_type": "code",
   "execution_count": null,
   "id": "ab898cd0",
   "metadata": {},
   "outputs": [],
   "source": [
    "N = int(input('Digite num inteiro:'))\n",
    "\n",
    "while N > 0:\n",
    "    x = int(input('digite numero'))\n",
    "    if x % 2 == 0:\n",
    "        print(x, end=\", \")\n",
    "    N = N - 1"
   ]
  },
  {
   "cell_type": "markdown",
   "id": "bdcbffb0",
   "metadata": {},
   "source": [
    "### Exercício 3: O Maior de N números\n",
    "- Leia um número N;\n",
    "- Leia N números;\n",
    "- Imprima o maior dos N números."
   ]
  },
  {
   "cell_type": "code",
   "execution_count": 2,
   "id": "af973146-3bb4-4fa8-ba6c-b887b79ccff8",
   "metadata": {},
   "outputs": [],
   "source": [
    "# Solução do exercício 3"
   ]
  },
  {
   "cell_type": "markdown",
   "id": "bdcbffb0",
   "metadata": {},
   "source": [
    "### Exercício 4: O Menor de N números\n",
    "- Leia um número N;\n",
    "- Leia N números;\n",
    "- Imprima o menor dos N números."
   ]
  },
  {
   "cell_type": "code",
   "execution_count": 3,
   "id": "64ad6f7b",
   "metadata": {},
   "outputs": [],
   "source": [
    "# Solução do exercício 4"
   ]
  },
  {
   "cell_type": "markdown",
   "id": "bdcbffb0",
   "metadata": {},
   "source": [
    "### Exercício 5: A Média de N números\n",
    "- Leia um número N;\n",
    "- Leia N números;\n",
    "- Imprima a média dos N números."
   ]
  },
  {
   "cell_type": "code",
   "execution_count": 4,
   "id": "a6c32b2e",
   "metadata": {},
   "outputs": [],
   "source": [
    "# Solução do exercício 5"
   ]
  },
  {
   "cell_type": "markdown",
   "id": "46a52784",
   "metadata": {},
   "source": [
    "### Exercício 6: Potência\n",
    "- Defina uma função **pot** que recebe dois parâmetros, **a** e **b**, e retorna o resultado de **a elevado à potência de b**.\n",
    "- Use esta função para escrever no monitor as potências de 2 com expoentes de 1 a 20."
   ]
  },
  {
   "cell_type": "code",
   "execution_count": null,
   "id": "73ebf338",
   "metadata": {},
   "outputs": [],
   "source": [
    "# Solução do exercício 6\n",
    "\n",
    "def pot(a,b):\n",
    "    result = 1\n",
    "    while b > 0:\n",
    "        result *= a\n",
    "        b -= 1\n",
    "    return result\n",
    "\n",
    "i = 1\n",
    "while i <= 20:\n",
    "    print(pot(2,i), end=' / ')\n",
    "    i += 1"
   ]
  },
  {
   "cell_type": "markdown",
   "id": "a09b4add",
   "metadata": {},
   "source": [
    "### Exercício 7: Divisão inteira\n",
    "- Defina uma função **divisao** que recebe dois parâmetros **a** e **b** e retorna o resultado da **divisão inteira de a por b** (neste exercício não poderá usar as operações de divisão '/' e do resto '%')."
   ]
  },
  {
   "cell_type": "code",
   "execution_count": null,
   "id": "36dbd5aa",
   "metadata": {},
   "outputs": [],
   "source": [
    "# Solução do exercício 7\n",
    "\n",
    "def intdiv(a, b):\n",
    "    result = 0\n",
    "    while a >= b:\n",
    "        a -= b\n",
    "        result += 1\n",
    "    return result\n",
    "\n",
    "\n",
    "print(intdiv(5,7))\n",
    "print(intdiv(112,7))\n",
    "print(intdiv(113,7))"
   ]
  },
  {
   "cell_type": "markdown",
   "id": "0490effe",
   "metadata": {},
   "source": [
    "### Exercício 8: Resto\n",
    "- Defina uma função **resto** que recebe dois parâmetros **a** e **b** e retorna o **resto da divisão inteira de a por b** (neste exercício não poderá usar as operações de divisão '/' e do resto '%')."
   ]
  },
  {
   "cell_type": "code",
   "execution_count": null,
   "id": "3fea0e05",
   "metadata": {},
   "outputs": [],
   "source": [
    "# Solução do exercício 8\n",
    "def restdiv(a, b):\n",
    "    while a >= b:\n",
    "        a -= b\n",
    "    return a\n",
    "\n",
    "\n",
    "print(restdiv(5,7))\n",
    "print(restdiv(112,7))\n",
    "print(restdiv(113,7))"
   ]
  },
  {
   "cell_type": "markdown",
   "id": "d11cdd11",
   "metadata": {},
   "source": [
    "### Exercício 9: Série numérica\n",
    "- Defina uma função **serie** que recebe três parâmetros, **base**, **salto** e **nelems**, e escreve no monitor a série;\n",
    "- Invocada com: **serie(7, 4, 5)** escreveria: 7, 11, 15, 19, 23"
   ]
  },
  {
   "cell_type": "code",
   "execution_count": null,
   "id": "7549c7d7",
   "metadata": {},
   "outputs": [],
   "source": [
    "# Solução do exercício 9\n",
    "def serie(base, salto, nelems):\n",
    "    i = 0\n",
    "    while i < nelems:\n",
    "        print(base + i*salto)\n",
    "        i += 1\n",
    "\n",
    "\n",
    "serie(7, 4, 11)"
   ]
  },
  {
   "cell_type": "markdown",
   "id": "73187e87",
   "metadata": {},
   "source": [
    "### Exercício 10: Desenhar um quadrado\n",
    "- Defina uma função **quad** que recebe um parâmetro, **n**, e desenha no monitor um quadrado usando o caráter '#'."
   ]
  },
  {
   "cell_type": "code",
   "execution_count": null,
   "id": "a31f8eaf",
   "metadata": {},
   "outputs": [],
   "source": [
    "# Solução do exercício 10\n",
    "\n",
    "def quad(a):\n",
    "    i = 0\n",
    "    while i < a:\n",
    "        j = 0\n",
    "        while j < a:\n",
    "            print('#', end='')\n",
    "            j += 1\n",
    "        print('\\n', end='')\n",
    "        i += 1\n",
    "\n",
    "quad(10)"
   ]
  },
  {
   "cell_type": "markdown",
   "id": "f4e2bc84",
   "metadata": {},
   "source": [
    "### Exercício 11: Índice de Massa Corporal\n",
    "- Defina uma função **imc** que recebe dois parâmetros, **peso**,**altura**, calcula o IMC corresponente e interpreta esse resultado.\n",
    "- imc(53,1.56) - Output: \"O seu índice de massa corporal é **21.78** e encontra-se na categoria **Normal**\"\n",
    "- imc(83,1.56) - Output: \"O seu índice de massa corporal é **34.11** e encontra-se na categoria **Obesidade grau I**\"\n",
    "\n",
    "Valores:\n",
    "- Menor que 18,5 - Baixo peso\n",
    "- 18,5 a 24,9 - Normal\n",
    "- 25 a 29,9\t- Excesso de peso\n",
    "- 30 a 34,9\t- Obesidade grau I\n",
    "- 35 a 39,9\t- Obesidade grau II\n",
    "- Maior que 40\t- Obesidade grau III"
   ]
  },
  {
   "cell_type": "code",
   "execution_count": 18,
   "id": "2a62004a",
   "metadata": {},
   "outputs": [],
   "source": [
    "# Solução do exercício 11"
   ]
  },
  {
   "cell_type": "markdown",
   "id": "cb1f80eb",
   "metadata": {},
   "source": [
    "### Exercício 12: Mínimo múltiplo comum \n",
    "\n",
    "- Defina uma função **mmc** que recebe dois parâmetros **a** e **b** e retorna como resultado o **mínimo múltiplo comum de a e b**."
   ]
  },
  {
   "cell_type": "code",
   "execution_count": 34,
   "id": "739d6b09",
   "metadata": {},
   "outputs": [
    {
     "name": "stdout",
     "output_type": "stream",
     "text": [
      "700/ 707/ 714/ 721/ 728/ 105/ 742/ 749/ 756/ 763/ 770/ 777/ 112/ 791/ 798/ 805/ 812/ 819/ 826/ 119/ 840/ 847/ 854/ 861/ 868/ 875/ 126/ 889/ 896/ 903/ 910/ 917/ 924/ 133/ 938/ 945/ 952/ 959/ 966/ 973/ 140/ 987/ 994/ 1001/ 1008/ 1015/ 1022/ 147/ 1036/ 1043/ 1050/ 1057/ 1064/ 1071/ 154/ 1085/ 1092/ 1099/ 1106/ 1113/ 1120/ 161/ 1134/ 1141/ 1148/ 1155/ 1162/ 1169/ 168/ 1183/ 1190/ 1197/ 1204/ 1211/ 1218/ 175/ 1232/ 1239/ 1246/ 1253/ 1260/ 1267/ 182/ 1281/ 1288/ 1295/ 1302/ 1309/ 1316/ 189/ 1330/ 1337/ 1344/ 1351/ 1358/ 1365/ 196/ 1379/ 1386/ 1393/ 1400/ "
     ]
    }
   ],
   "source": [
    "# Solução do exercício 12: mmc\n",
    "\n",
    "def maior(a,b):\n",
    "    return a if a > b else b\n",
    "\n",
    "def menor(a,b):\n",
    "    return a if a < b else b\n",
    "\n",
    "\n",
    "def mmc(a,b):\n",
    "    if a<b:\n",
    "        a, b = b, a\n",
    "    step = a\n",
    "    while a % b !=0:\n",
    "        a += step\n",
    "    return a\n",
    "\n",
    "\n",
    "i = 100\n",
    "while i <= 200:\n",
    "    print(mmc(7,i), end='/ ')\n",
    "    i +=1"
   ]
  },
  {
   "cell_type": "markdown",
   "id": "cb5c930a",
   "metadata": {},
   "source": [
    "### Exercício 13: Aplicação final \n",
    "\n",
    "Junta todos os exercícios que realizaste nesta ficha numa aplicação em Python:\n",
    "* Cria um menu com as funcionalidades desenvolvidas (faz uma função para escrever o menu);\n",
    "* Lê qual a opção do utilizador;\n",
    "* Executa a respetiva função, apresenta o resultado, e volta a colocar o menu e a questionar o utilizador;\n",
    "* Repete até o utilizador ter escolhido a opção de (S)air da aplicação.\n"
   ]
  },
  {
   "cell_type": "markdown",
   "id": "1cf1b437",
   "metadata": {},
   "source": [
    "## TPC3: Jogo dos 21 fósforos\n",
    "\n",
    "Desenvolve em Python o código necessário para o jogo dos 21 fósforos: \n",
    "\n",
    "### O jogo\n",
    "\n",
    "* No início do jogo, há 21 fósforos;\n",
    "* Cada jogador (computador ou utilizador), pode tirar 1, 2, 3 ou 4 fósforos quando for a sua vez de jogar;\n",
    "* Os jogadores jogam alternadamente;\n",
    "* **Quem tirar o último fósforo perde!**\n",
    "\n",
    "### O programa \n",
    "\n",
    "* O jogo deverá ter dois modos: o jogador joga em primeiro lugar e o computador começa a jogar em segundo lugar e, no segundo modo, o computador começa em primeiro; \n",
    "* Quando o computador começa a jogar em segundo lugar, deve ganhar sempre o jogo;\n",
    "* Quando o computador começa a jogar em primeiro lugar, se o utilizador cometer um erro de cálculo, o computador deverá passar para a posição de vencedor e ganhar o jogo."
   ]
  }
 ],
 "metadata": {
  "kernelspec": {
   "display_name": "Python 3.9.7 64-bit",
   "language": "python",
   "name": "python3"
  },
  "language_info": {
   "codemirror_mode": {
    "name": "ipython",
    "version": 3
   },
   "file_extension": ".py",
   "mimetype": "text/x-python",
   "name": "python",
   "nbconvert_exporter": "python",
   "pygments_lexer": "ipython3",
   "version": "3.11.5"
  },
  "vscode": {
   "interpreter": {
    "hash": "916dbcbb3f70747c44a77c7bcd40155683ae19c65e1c03b4aa3499c5328201f1"
   }
  }
 },
 "nbformat": 4,
 "nbformat_minor": 5
}
