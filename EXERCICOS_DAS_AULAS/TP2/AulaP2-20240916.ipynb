{
 "cells": [
  {
   "cell_type": "markdown",
   "id": "1e545158",
   "metadata": {},
   "source": [
    "# Aula Prática 2 (guião)\n",
    "### Semana de 16 a 20 de Setembro de 2024\n",
    "### José Carlos Ramalho e Luís Cunha\n",
    "### Sinopsis:\n",
    "Algoritmos de cálculo numérico envolvendo estruturas condicionais (if-elif-else) e cíclicas simples (while)."
   ]
  },
  {
   "cell_type": "markdown",
   "id": "2ed39c3b",
   "metadata": {},
   "source": [
    "### Exercício 1: Maior de 2 números \n",
    "- Especifique um programa que recebe dois valores e escreve na saída o maior."
   ]
  },
  {
   "cell_type": "code",
   "execution_count": null,
   "id": "ae0b0a36",
   "metadata": {},
   "outputs": [],
   "source": [
    "# Solução do exercício 1"
   ]
  },
  {
   "cell_type": "markdown",
   "id": "6b8dd991",
   "metadata": {},
   "source": [
    "### Exercício 2: Maior de 3 números \n",
    "- Especifique um programa que recebe três valores e escreve na saída o maior."
   ]
  },
  {
   "cell_type": "code",
   "execution_count": null,
   "id": "35bd2d89",
   "metadata": {},
   "outputs": [],
   "source": [
    "# Solução do exercício 2"
   ]
  },
  {
   "cell_type": "markdown",
   "id": "c1321c0e",
   "metadata": {},
   "source": [
    "### Exercício 3: Sobrinhos do Pato Donald\n",
    "\n",
    "- Especifique um programa que lê um nome e se este for `Hugo`, `Luís` ou `Zé` identifica-o como sobrinho do Pato Donald, se for outro nome deve indicar que o mesmo não é sobrinho de nínguém conhecido."
   ]
  },
  {
   "cell_type": "markdown",
   "id": "3c88b246",
   "metadata": {},
   "source": [
    "### Exercício 4: Índice de Massa Corporal\n",
    "- Especifique um programa que recebe dois parâmetros, **peso**,**altura**, calcula o IMC corresponente e interpreta esse resultado.\n",
    "- Input: 53 e 1.56 \n",
    "- Output: \"O seu índice de massa corporal é **21.78** e encontra-se na categoria **Normal**\"\n",
    "\n",
    "Valores para a interpretação:\n",
    "- Menor que 18,5 - Baixo peso\n",
    "- 18,5 a 24,9 - Normal\n",
    "- 25 a 29,9\t- Excesso de peso\n",
    "- 30 a 34,9\t- Obesidade grau I\n",
    "- 35 a 39,9\t- Obesidade grau II\n",
    "- Maior que 40\t- Obesidade grau III"
   ]
  },
  {
   "cell_type": "code",
   "execution_count": null,
   "id": "39bf1752",
   "metadata": {},
   "outputs": [],
   "source": [
    "# Solução do exercício 1"
   ]
  },
  {
   "cell_type": "markdown",
   "id": "380a0795",
   "metadata": {},
   "source": [
    "## Teoria: estrutura cíclica `while` \n",
    "\n",
    "Estrutura:\n",
    "```python\n",
    "    while cond:\n",
    "        ação\n",
    "        ...\n",
    "```"
   ]
  },
  {
   "cell_type": "markdown",
   "id": "cb12baa4",
   "metadata": {},
   "source": [
    "### Exemplo: Somar os inteiros entre 1 e 10 "
   ]
  },
  {
   "cell_type": "code",
   "execution_count": null,
   "id": "39cbe01f",
   "metadata": {},
   "outputs": [],
   "source": [
    "soma = 0\n",
    "i = 1\n",
    "while i <= 10:\n",
    "    soma = soma + i\n",
    "    i = i + 1\n",
    "print(soma)"
   ]
  },
  {
   "cell_type": "markdown",
   "id": "e38d18c4-d7d7-4fea-9bc6-e3f3c903386b",
   "metadata": {},
   "source": [
    "### Exercício 5: Soma de N números\n",
    "- Leia um número N;\n",
    "- Leia N números;\n",
    "- Imprima a soma dos N números."
   ]
  },
  {
   "cell_type": "code",
   "execution_count": null,
   "id": "af973146-3bb4-4fa8-ba6c-b887b79ccff8",
   "metadata": {},
   "outputs": [],
   "source": [
    "N = int(input('Numero maximo de numeros:'))\n",
    "\n",
    "x = int(input(f'digite o num 1/{N}'))\n",
    "\n",
    "soma = x\n",
    "\n",
    "i = 1\n",
    "while i < N:\n",
    "    x = int(input(f'digite o num {i}/{N}'))\n",
    "    soma = soma + x\n",
    "    i = i + 1\n",
    "\n",
    "print(soma)"
   ]
  },
  {
   "cell_type": "markdown",
   "id": "bdcbffb0",
   "metadata": {},
   "source": [
    "### Exercício 6: O Maior de N números\n",
    "- Leia um número N;\n",
    "- Leia N números;\n",
    "- Imprima o maior dos N números."
   ]
  },
  {
   "cell_type": "code",
   "execution_count": null,
   "id": "af973146-3bb4-4fa8-ba6c-b887b79ccff8",
   "metadata": {},
   "outputs": [],
   "source": [
    "# Solução do exercício 6"
   ]
  },
  {
   "cell_type": "markdown",
   "id": "bdcbffb0",
   "metadata": {},
   "source": [
    "### Exercício 7: O Menor de N números\n",
    "- Leia um número N;\n",
    "- Leia N números;\n",
    "- Imprima o menor dos N números."
   ]
  },
  {
   "cell_type": "code",
   "execution_count": null,
   "id": "64ad6f7b",
   "metadata": {},
   "outputs": [],
   "source": [
    "# Solução do exercício 7"
   ]
  },
  {
   "cell_type": "markdown",
   "id": "bdcbffb0",
   "metadata": {},
   "source": [
    "### Exercício 8: A Média de N números\n",
    "- Leia um número N;\n",
    "- Leia N números;\n",
    "- Imprima a média dos N números."
   ]
  },
  {
   "cell_type": "code",
   "execution_count": null,
   "id": "a6c32b2e",
   "metadata": {},
   "outputs": [],
   "source": [
    "# Solução do exercício 8"
   ]
  },
  {
   "cell_type": "markdown",
   "id": "009d98eb",
   "metadata": {},
   "source": [
    "## Teoria: definição de uma função `def` \n",
    "\n",
    "Estrutura:\n",
    "```python\n",
    "    def f1(param1, param2, ..., paramn):\n",
    "        ação1\n",
    "        ação2\n",
    "        ...\n",
    "        return resultado\n",
    "```"
   ]
  },
  {
   "cell_type": "markdown",
   "id": "63b7e3d9",
   "metadata": {},
   "source": [
    "### Exemplo: Somar os números inteiros de 1 até N"
   ]
  },
  {
   "cell_type": "code",
   "execution_count": null,
   "id": "cb9eaa82",
   "metadata": {},
   "outputs": [],
   "source": [
    "def somatorio(n):\n",
    "    i = 1\n",
    "    res = 0\n",
    "    while i <= n:\n",
    "        res = res + i\n",
    "        i = i + 1\n",
    "    return res \n",
    "\n",
    "num = int(input(\"Introduza um número inteiro positivo:\"))\n",
    "print(somatorio(num))"
   ]
  },
  {
   "cell_type": "markdown",
   "id": "52b57208",
   "metadata": {},
   "source": [
    "### Exercício 9: \n",
    "\n",
    "* Use a função definida no exemplo anterior para escrever no monitor uma lista de pares: (n, somatorio(n));\n",
    "* Faça n variar entre 10 e 1000 com um salto de 10: 10, 20, 30, ..., 1000."
   ]
  },
  {
   "cell_type": "code",
   "execution_count": null,
   "id": "b8eaa902",
   "metadata": {},
   "outputs": [],
   "source": [
    "# Solução do exercício 9"
   ]
  },
  {
   "cell_type": "markdown",
   "id": "f41ef69b",
   "metadata": {},
   "source": [
    "### Exercício 10: Potência\n",
    "- Defina uma função **pot** que recebe dois parâmetros, **a** e **b**, e retorna o resultado de **a elevado à potência de b**.\n",
    "- Use esta função para escrever no monitor as potências de 2 com expoentes de 1 a 20."
   ]
  },
  {
   "cell_type": "code",
   "execution_count": null,
   "id": "86f5b24d",
   "metadata": {},
   "outputs": [],
   "source": [
    "# Solução do exercício 10\n",
    "\n",
    "def pot(a,b):\n",
    "    \n",
    "    return ...\n"
   ]
  },
  {
   "cell_type": "markdown",
   "id": "d11cdd11",
   "metadata": {},
   "source": [
    "### Exercício 11: Série numérica\n",
    "- Defina uma função **serie** que recebe três parâmetros, **base**, **salto** e **nelems**, e escreve no monitor a série;\n",
    "- Invocada com: **serie(7, 4, 5)** escreveria: 7, 11, 15, 19, 23"
   ]
  },
  {
   "cell_type": "code",
   "execution_count": null,
   "id": "7549c7d7",
   "metadata": {},
   "outputs": [],
   "source": [
    "# Solução do exercício 11\n"
   ]
  },
  {
   "cell_type": "markdown",
   "id": "73187e87",
   "metadata": {},
   "source": [
    "### Exercício 12: Desenhar um quadrado\n",
    "- Defina uma função **quad** que recebe um argumento, **n**, e desenha no monitor um quadrado usando o caráter '#';\n",
    "- O resultado da invocação dessa função com um argumento 3 deverá ser:\n",
    "```\n",
    "###\n",
    "###\n",
    "###\n",
    "```"
   ]
  },
  {
   "cell_type": "code",
   "execution_count": null,
   "id": "a31f8eaf",
   "metadata": {},
   "outputs": [],
   "source": [
    "# Solução do exercício 12"
   ]
  },
  {
   "cell_type": "markdown",
   "id": "10b1d00c",
   "metadata": {},
   "source": [
    "### Exercício 13: Desenhar um quadrado\n",
    "- Defina uma função que desenhe no ecran (usando os caracteres # e _) um tabuleiro de xadrez; \n",
    "- O resultado da invocação dessa função com um argumento 5 deverá ser:\n",
    "```\n",
    "#_#_#\n",
    "_#_#_\n",
    "#_#_#\n",
    "_#_#_\n",
    "#_#_#\n",
    "```"
   ]
  },
  {
   "cell_type": "code",
   "execution_count": null,
   "id": "a4ccf6e1",
   "metadata": {},
   "outputs": [],
   "source": [
    "# Solução do exercício 13"
   ]
  },
  {
   "cell_type": "markdown",
   "id": "f4e2bc84",
   "metadata": {},
   "source": [
    "### Exercício 14: Índice de Massa Corporal\n",
    "- Defina uma função **imc** que recebe dois parâmetros, **peso**,**altura**, calcula o IMC corresponente e interpreta esse resultado.\n",
    "- imc(53,1.56) - Output: \"O seu índice de massa corporal é **21.78** e encontra-se na categoria **Normal**\"\n",
    "- imc(83,1.56) - Output: \"O seu índice de massa corporal é **34.11** e encontra-se na categoria **Obesidade grau I**\"\n",
    "\n",
    "Valores:\n",
    "- Menor que 18,5 - Baixo peso\n",
    "- 18,5 a 24,9 - Normal\n",
    "- 25 a 29,9\t- Excesso de peso\n",
    "- 30 a 34,9\t- Obesidade grau I\n",
    "- 35 a 39,9\t- Obesidade grau II\n",
    "- Maior que 40\t- Obesidade grau III"
   ]
  },
  {
   "cell_type": "code",
   "execution_count": 7,
   "id": "2a62004a",
   "metadata": {},
   "outputs": [],
   "source": [
    "# Solução do exercício 14"
   ]
  },
  {
   "cell_type": "markdown",
   "id": "5dcb3573",
   "metadata": {},
   "source": [
    "### Exercício 15: Série de Fibonacci\n",
    "- Defina uma função **fib** que recebe um argumento, **n**, e escreve no monitor os primeiros n elementos da série de fibonacci;\n",
    "- A série de Fibonacci tem a seguinte definição matemática:\n",
    "    - Se n < 2 ==> 1\n",
    "    - Se n >= 2 ==> fib(n-1) + fib(n-2)"
   ]
  },
  {
   "cell_type": "code",
   "execution_count": null,
   "id": "fc54507c",
   "metadata": {},
   "outputs": [],
   "source": [
    "# Solução do exercício 15"
   ]
  },
  {
   "cell_type": "markdown",
   "id": "81703f1b",
   "metadata": {},
   "source": [
    "### TPC2: Adivinha o número\n",
    "- Crie um programa em Python para jogar o jogo \"Adivinha o número\":\n",
    "    - O jogo pode ter 2 modalidades: computador pensa num número (entre 0 e 100), utilizador tenta adivinhar; ou, o utilizador pensa num número (entre 0 e 100) e o computador tenta adivinhar;\n",
    "    - Quem tenta adivinhar responde com uma das afirmações: \"Acertou\", \"O número que pensei é Maior\" ou \"O número que pensei é Menor\";\n",
    "    - Uma vez descoberto o número o programa deverá terminar imprimindo o número de tentativas que quem adivinhou usou para chegar ao resultado."
   ]
  }
 ],
 "metadata": {
  "kernelspec": {
   "display_name": "Python 3.9.1 64-bit",
   "language": "python",
   "name": "python3"
  },
  "language_info": {
   "codemirror_mode": {
    "name": "ipython",
    "version": 3
   },
   "file_extension": ".py",
   "mimetype": "text/x-python",
   "name": "python",
   "nbconvert_exporter": "python",
   "pygments_lexer": "ipython3",
   "version": "3.11.5"
  },
  "vscode": {
   "interpreter": {
    "hash": "aee8b7b246df8f9039afb4144a1f6fd8d2ca17a180786b69acc140d282b71a49"
   }
  }
 },
 "nbformat": 4,
 "nbformat_minor": 5
}
