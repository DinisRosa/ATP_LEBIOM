{
 "cells": [
  {
   "cell_type": "markdown",
   "metadata": {},
   "source": [
    "# Aula Teórica 2 (guião)\n",
    "### Semana de 16 a 20 de Setembro de 2024\n",
    "### José Carlos Ramalho\n",
    "### Sinopsis:\n",
    "* Estruturas cíclicas;\n",
    "* Definição de funções;\n",
    "* Strings."
   ]
  },
  {
   "cell_type": "markdown",
   "metadata": {},
   "source": [
    "## TPC: como, onde e o quê \n",
    "\n",
    "* Cada aluno deverá criar uma conta no GitHub;\n",
    "* Cada aluno deverá criar um repositório no GitHub de nome `ATP2024`;\n",
    "* Nesse repositório, deverá criar uma pasta para cada trabalho que for fazendo: `TP1`, `TP2`, ...\n",
    "* Enviar um email aos docentes com o link para o repositório;\n",
    "* Em cada pasta de trabalho, deverá ser criado um ficheiro com nome `README.md` onde o aluno deverá descrever o que fez, juntamente com alguma metainformação (a discutir agora na aula);\n",
    "* Todos os ficheiros resultantes da realização de um trabalho deverão ser copiados para a respetiva pasta."
   ]
  },
  {
   "cell_type": "markdown",
   "metadata": {},
   "source": [
    "### Exercício (aquecimento): Ordem das letras\n",
    "\n",
    "Escreve um programa que lê três letras e vai imprimir qual das três letras estaria no meio se as letras estivessem em ordem alfabética.\n",
    "\n",
    "Vamos assumir que as letras serão todas maiúsculas ou todas minúsculas."
   ]
  },
  {
   "cell_type": "code",
   "execution_count": null,
   "metadata": {},
   "outputs": [],
   "source": [
    "letra1 = input('introduza a primeira letra:')\n",
    "letra2 = input('introduza a segunda letra:')\n",
    "letra3 = input('introduza a terceira letra:')\n",
    "\n",
    "if letra1 < letra2:\n",
    "    if letra3 > letra2:\n",
    "        print(letra2)\n",
    "    else:\n",
    "        if letra1 > letra3:\n",
    "            print(letra3)\n",
    "        else:\n",
    "            print(letra1)\n",
    "else:\n",
    "    if letra1 > letra3:\n",
    "        print(letra1)\n",
    "    else:\n",
    "        if letra2 > letra3:\n",
    "            print(letra2)\n",
    "        else:\n",
    "            print(letra3)\n",
    "    "
   ]
  },
  {
   "cell_type": "markdown",
   "metadata": {},
   "source": [
    "## Estrutura cíclica: `while` ..."
   ]
  },
  {
   "cell_type": "code",
   "execution_count": null,
   "metadata": {},
   "outputs": [],
   "source": [
    "# Estrutura cíclica while\n",
    "# while cond:\n",
    "#   acao"
   ]
  },
  {
   "cell_type": "markdown",
   "metadata": {},
   "source": [
    "### Exercício: Sair de uma aplicação \n",
    "\n",
    "Escreve um programa que imprime \"Olá! Deseja sair?\" e lê a resposta do utilizador que poderá responder \"s\" ou \"n\". Se a resposta é \"s\" o programa deverá terminar, caso contrário deverá voltar a fazer a mesma pergunta e repetir o processamento."
   ]
  },
  {
   "cell_type": "code",
   "execution_count": null,
   "metadata": {},
   "outputs": [],
   "source": [
    "resposta = input('Deseja sair da aplicação: (s/n)')\n",
    "while resposta != 's':\n",
    "    if resposta == 'n':\n",
    "        resposta = input('Deseja sair da aplicação: (s/n)')\n",
    "    else:\n",
    "        print('Opção Desconhecida.')\n",
    "        resposta = input('Deseja sair da aplicação: (s/n)')\n",
    "print('Obrigado! Volte sempre!')"
   ]
  },
  {
   "cell_type": "markdown",
   "metadata": {},
   "source": [
    "### Exercício: Calculadora (v2.0)\n",
    "\n",
    "Usa o programa do exercício anterior e enriquece-o com o código anterior da calculadora. \n",
    "Em cada iteração do ciclo, lê dois operandos e uma operação, apresenta o resultado, e pergunta ao utilizador se quer continuar a usar a fazer mais operações."
   ]
  },
  {
   "cell_type": "code",
   "execution_count": null,
   "metadata": {},
   "outputs": [],
   "source": [
    "# Solução"
   ]
  },
  {
   "cell_type": "markdown",
   "metadata": {},
   "source": [
    "### Exercício: Contador decrescente \n",
    "\n",
    "Escreve um programa que lê um número inteiro e imprime todos os inteiros entre esse número e 0 de forma decrescente."
   ]
  },
  {
   "cell_type": "code",
   "execution_count": null,
   "metadata": {},
   "outputs": [],
   "source": [
    "n = int(input('digitr um numero'))\n",
    "\n",
    "while n >= 0:\n",
    "    print(n, end=' : ')\n",
    "    n -= 1"
   ]
  },
  {
   "cell_type": "markdown",
   "metadata": {},
   "source": [
    "## Definição de funções: `def ...` \n",
    "\n",
    "Estrutura:\n",
    "```python\n",
    "    def f1(param1, param2, ..., paramn):\n",
    "        ação1\n",
    "        ação2\n",
    "        ...\n",
    "        return resultado\n",
    "```"
   ]
  },
  {
   "cell_type": "markdown",
   "metadata": {},
   "source": [
    "### Exemplo: função muito simples - saudação "
   ]
  },
  {
   "cell_type": "code",
   "execution_count": null,
   "metadata": {},
   "outputs": [],
   "source": [
    "# função saudação \n",
    "def saudacao():\n",
    "    print(\"Olá turma de 2024!\")\n",
    "\n",
    "saudacao()\n",
    "saudacao()\n",
    "saudacao()"
   ]
  },
  {
   "cell_type": "markdown",
   "metadata": {},
   "source": [
    "### Exemplo: saudação com argumento"
   ]
  },
  {
   "cell_type": "code",
   "execution_count": null,
   "metadata": {},
   "outputs": [],
   "source": [
    "# função saudação com argumento\n",
    "def saudacao(arg):\n",
    "    print(f\"Olá {arg}!\")\n",
    "\n",
    "saudacao(\"turma de 2024\")\n",
    "saudacao(\"João\")\n",
    "saudacao(\"Cristina\")"
   ]
  },
  {
   "cell_type": "markdown",
   "metadata": {},
   "source": [
    "### Exercício: Média de três números inteiros"
   ]
  },
  {
   "cell_type": "code",
   "execution_count": null,
   "metadata": {},
   "outputs": [],
   "source": [
    "# Média de três números inteiros \n",
    "def media(a, b, c):\n",
    "    # ...\n",
    "    return \n",
    "\n",
    "print(media(1,5,3))\n",
    "print(media(10,15,12))"
   ]
  },
  {
   "cell_type": "markdown",
   "metadata": {},
   "source": [
    "### Exercício: Escrever uma string n vezes"
   ]
  },
  {
   "cell_type": "code",
   "execution_count": null,
   "metadata": {},
   "outputs": [],
   "source": [
    "# Escrever uma string n vezes \n",
    "def print_many(s, n):\n",
    "    #  ...\n",
    "    pass\n",
    "\n",
    "print_many(\"Hoh, hoh, hoh...\", 5)\n",
    "print_many(\"Devo saber comportar-me.\", 100)"
   ]
  },
  {
   "cell_type": "markdown",
   "metadata": {},
   "source": [
    "### Exercício: Repetir um caráter numa linha n vezes\n",
    "\n",
    "Exemplo:\n",
    "```\n",
    "> charN(5, \"/\")\n",
    ">> /////\n",
    "> charN(7, \"\")\n",
    ">> *******\n",
    "```"
   ]
  },
  {
   "cell_type": "code",
   "execution_count": null,
   "metadata": {},
   "outputs": [],
   "source": [
    "# Repetir um caráter numa linha n vezes\n",
    "def charN(n, c):\n",
    "    # ...\n",
    "    pass \n",
    "\n",
    "charN(5, \"/\")\n",
    "charN(7, \"\")"
   ]
  },
  {
   "cell_type": "markdown",
   "metadata": {},
   "source": [
    "### Exercício: Divisão inteira de dois valores inteiros"
   ]
  },
  {
   "cell_type": "code",
   "execution_count": null,
   "metadata": {},
   "outputs": [],
   "source": [
    "# Divisão inteira (sem usar o operador '//')\n",
    "def divInt(a, b):\n",
    "    # ...\n",
    "    return \n",
    "\n",
    "print(divInt(7, 4))\n",
    "print(divInt(5, 7))"
   ]
  },
  {
   "cell_type": "markdown",
   "metadata": {},
   "source": [
    "## Tipos de dados primitivos (vamos revisitar)\n",
    "\n",
    "Inteiros, reais, complexos, booleanos e strings "
   ]
  },
  {
   "cell_type": "code",
   "execution_count": 15,
   "metadata": {},
   "outputs": [
    {
     "name": "stdout",
     "output_type": "stream",
     "text": [
      "(10+2j)\n",
      "(29-2j)\n"
     ]
    }
   ],
   "source": [
    "# Complexos\n",
    "a = 7+4j\n",
    "b = 3-2j\n",
    "print(a+b)\n",
    "print(a*b)"
   ]
  },
  {
   "cell_type": "code",
   "execution_count": 10,
   "metadata": {},
   "outputs": [
    {
     "name": "stdout",
     "output_type": "stream",
     "text": [
      "True\n",
      "False\n",
      "3\n",
      "2\n",
      "<class 'bool'>\n",
      "<class 'str'>\n"
     ]
    }
   ],
   "source": [
    "# Booleanos\n",
    "a = 2*3 > 4\n",
    "print(a)\n",
    "b = (2*3 > 4) and (not a)\n",
    "print(b)\n",
    "print(a+2)\n",
    "print(b+2)\n",
    "print(type(a))\n",
    "print(type(\"1\"))"
   ]
  },
  {
   "cell_type": "code",
   "execution_count": null,
   "metadata": {},
   "outputs": [],
   "source": [
    "# Reais\n",
    "media = (13+18+12)/3\n",
    "print(media, type(media))\n",
    "c = 3\n",
    "print(type(c))\n",
    "media2 = c/2\n",
    "print(media2, type(media2))"
   ]
  },
  {
   "cell_type": "markdown",
   "metadata": {},
   "source": [
    "### Strings\n",
    "\n",
    "* Construtor: \"...\" ou '...';\n",
    "* Multilinha: \"\"\"...\"\"\" ou '''...''';\n",
    "* Acesso a uma posição: `frase[i]`;\n",
    "* Percorrer uma string: `for c in frase:`;\n",
    "* Comprimento duma string: `...len(frase)...`;\n",
    "* Verificar se contem uma parte: `if \"dia\" in frase...`;\n",
    "* Verificar se não contem uma parte: `if \"dia\" not in frase...`;\n",
    "* Fatiar uma string: `frase[start:end]`;\n",
    "    - do início: `frase[:end]`;\n",
    "    - até ao fim: `frase[start:]`;\n",
    "    - índices negativos.\n",
    "* Conversão para maiúsculas: `frase.upper()`;\n",
    "* Conversão para minúsculas: `frase.lower()`;\n",
    "* Remover espaço branco do início e do fim: `frase.strip()`;\n",
    "* Substituir partes: `frase.replace(\"Hoje\", \"Today\")`;\n",
    "* Partir uma string em bocados usando um separador: `frase.split(\"#\")`;\n",
    "* Concatenação de 2 strings: `s1 + s2`.\n",
    "\n",
    "\n"
   ]
  },
  {
   "cell_type": "code",
   "execution_count": null,
   "metadata": {},
   "outputs": [],
   "source": [
    "s1 = \"Hoje está um dia de sol\"\n",
    "print(s1[5:9])\n",
    "print(s1[:9])\n",
    "print(s1[10:])\n",
    "print(s1[-3:])\n",
    "print(s1[-3])"
   ]
  },
  {
   "cell_type": "code",
   "execution_count": null,
   "metadata": {},
   "outputs": [],
   "source": [
    "s1 = \"Hoje está um dia de sol\"\n",
    "\n",
    "def showString(s):\n",
    "    pos = 0\n",
    "    for carater in s:\n",
    "        print(pos, carater)\n",
    "        pos = pos + 1\n",
    "\n",
    "showString(s1)"
   ]
  },
  {
   "cell_type": "code",
   "execution_count": null,
   "metadata": {},
   "outputs": [],
   "source": [
    "# Strings\n",
    "frase = \"A alma humana é vítima tão inevitável da dor que sofre a dor da surpresa dolorosa\"\n",
    "frase2 = 'A alma humana...'\n",
    "frase3 = \"\"\" A alma humana é vítima tão inevitável da dor \n",
    "que sofre a dor da surpresa \n",
    "dolorosa   \"\"\"\n",
    "print(frase, type(frase))\n",
    "print(frase2, type(frase2))\n",
    "print(frase3, type(frase3))\n",
    "\n",
    "showString(frase3)"
   ]
  },
  {
   "cell_type": "code",
   "execution_count": null,
   "metadata": {},
   "outputs": [],
   "source": [
    "# Acesso a um caráter\n",
    "print(frase[7])\n",
    "# Acesso a uma fatia\n",
    "print(frase[2:6])\n",
    "print(frase[2:])\n",
    "print(frase[:6])\n",
    "print(frase[-8:])\n",
    "# A contar do fim: índices negativos\n",
    "print(frase[:-20])"
   ]
  },
  {
   "cell_type": "code",
   "execution_count": null,
   "metadata": {},
   "outputs": [],
   "source": [
    "s3 = \"Olá\\nTurma\\nde\\n2023\"\n",
    "print(s3)"
   ]
  },
  {
   "cell_type": "code",
   "execution_count": null,
   "metadata": {},
   "outputs": [],
   "source": [
    "frase = \"A alma humana é vítima tão inevitável da dor que sofre a dor da surpresa dolorosa\"\n",
    "# Comprimento\n",
    "print(\"A frase tem \", len(frase), \" carateres.\")\n",
    "# Contar os a's \n",
    "contador = 0\n",
    "i = 0\n",
    "while i < len(frase):\n",
    "    if frase[i] == \"a\" or frase[i] == 'A':\n",
    "        contador = contador + 1\n",
    "    i = i + 1\n",
    "print(\"O número de a é \", contador)\n",
    "\n",
    "contador = 0\n",
    "for letra in frase:\n",
    "    if letra == \"a\" or letra == 'A':\n",
    "        contador = contador + 1\n",
    "print(\"O número de a é \", contador)"
   ]
  },
  {
   "cell_type": "code",
   "execution_count": null,
   "metadata": {},
   "outputs": [],
   "source": [
    "# Verificar se uma palavra está na frase\n",
    "if \"alma\" in frase:\n",
    "    print(\"Está!\")\n",
    "\n",
    "if \"inferno\" not in frase:\n",
    "    print(\"Inferno não está!\")\n",
    " "
   ]
  },
  {
   "cell_type": "code",
   "execution_count": null,
   "metadata": {},
   "outputs": [],
   "source": [
    "# Partir uma string em substrings usando um ou mais caráteres como separador\n",
    "frase = \"A alma humana é vítima tão inevitável da dor que sofre a dor da surpresa dolorosa\"\n",
    "palavras = frase.split(\" \")\n",
    "print(palavras)\n",
    "# O resultado é uma lista, vamos ver à frente...\n",
    "emd = \"Ana Cristina;17;Patinagem;Apto\"\n",
    "campos = emd.split(\";\")\n",
    "print(campos)"
   ]
  },
  {
   "cell_type": "code",
   "execution_count": null,
   "metadata": {},
   "outputs": [],
   "source": [
    "aluno = \"Paulo Cordeiro:::Eng. Biomédica:::3\"\n",
    "campos = aluno.split(\":::\")\n",
    "print(campos)"
   ]
  },
  {
   "cell_type": "code",
   "execution_count": null,
   "metadata": {},
   "outputs": [],
   "source": [
    "cor = \"verde\"\n",
    "novacor = cor.upper()\n",
    "print(novacor)\n",
    "print(novacor.lower())"
   ]
  },
  {
   "cell_type": "code",
   "execution_count": null,
   "metadata": {},
   "outputs": [],
   "source": [
    "nome = \"    José      António    \"\n",
    "print(\":\" + nome.strip() + \":\")\n",
    "lnome = nome.split()\n",
    "print(lnome)"
   ]
  },
  {
   "cell_type": "code",
   "execution_count": null,
   "metadata": {},
   "outputs": [],
   "source": [
    "discurso = \"Hoje já choveu\"\n",
    "nova = discurso.replace(\"Hoje\", \"Today\")\n",
    "print(nova)\n",
    "# Concatenação\n",
    "duas = discurso + \". \" + nova\n",
    "print(duas)\n"
   ]
  },
  {
   "cell_type": "code",
   "execution_count": null,
   "metadata": {},
   "outputs": [],
   "source": [
    "# Geração de números aleatórios\n",
    "import random \n",
    "\n",
    "i = 0\n",
    "while i < 10:\n",
    "    print(random.randrange(1,101))\n",
    "    print(random.randint(1,50))\n",
    "    i = i + 1"
   ]
  },
  {
   "cell_type": "markdown",
   "metadata": {},
   "source": [
    "### Exercício: Ciclo de controlo de um jogo"
   ]
  },
  {
   "cell_type": "code",
   "execution_count": null,
   "metadata": {},
   "outputs": [],
   "source": [
    "# Ciclo de controlo de um jogo"
   ]
  },
  {
   "cell_type": "markdown",
   "metadata": {},
   "source": [
    "### Listas\n",
    "\n",
    "Uma lista é uma sequência finita e ordenada de elementos. Um elemento pode ser qualquer coisa."
   ]
  },
  {
   "cell_type": "markdown",
   "metadata": {},
   "source": [
    "#### Construtor:"
   ]
  },
  {
   "cell_type": "code",
   "execution_count": null,
   "metadata": {},
   "outputs": [],
   "source": [
    "# lista vazia\n",
    "l = []\n",
    "# lista homogénea\n",
    "l2 = [1,2,3,4,5]\n",
    "# lista heterogénea\n",
    "l3 = [11, \"onze\", 12, \"doze\"]\n",
    "print(len(l3))\n",
    "\n",
    "soma = 0\n",
    "for num in l2[:3]:\n",
    "    soma = soma + num \n",
    "print(\"Soma: \", soma)\n"
   ]
  },
  {
   "cell_type": "code",
   "execution_count": null,
   "metadata": {},
   "outputs": [],
   "source": [
    "def quadrados(lista):\n",
    "    res = []\n",
    "    for n in lista:\n",
    "        res.append(n*n)\n",
    "    return res\n",
    "\n",
    "print(quadrados([2,3,4,5]))"
   ]
  },
  {
   "cell_type": "code",
   "execution_count": null,
   "metadata": {},
   "outputs": [],
   "source": [
    "# Gerar uma lista com 20 números aleatórios no intervalo [1::100]\n",
    "import random \n",
    "\n",
    "N = int(input(\"Introduza o número de elementos da lista: \"))\n",
    "lista = []\n",
    "i = 0\n",
    "while i < N:\n",
    "    num = random.randrange(1, 101)\n",
    "    lista.append(num)\n",
    "    i = i + 1\n",
    "print(lista)"
   ]
  },
  {
   "cell_type": "markdown",
   "metadata": {},
   "source": [
    "Aluno = nome, id, notas\n",
    "\n",
    "nome = String\n",
    "\n",
    "id = String\n",
    "\n",
    "notas = [float]\n",
    "\n",
    "Aluno = [id, nome, notas]\n",
    "\n",
    "Turma = [Aluno]"
   ]
  },
  {
   "cell_type": "code",
   "execution_count": null,
   "metadata": {},
   "outputs": [],
   "source": [
    "def mediaNotas(notas):\n",
    "    soma = 0\n",
    "    for n in notas:\n",
    "        soma = soma + n \n",
    "    return soma / len(notas)\n",
    "\n",
    "aluno1 = [\"A2749\",\"José António\",[13,17]]\n",
    "aluno2 = [\"A3249\",\"Mafalda\",[14,15]]\n",
    "aluno3 = [\"A53478\",\"Josefina\",[11,12]]\n",
    "\n",
    "turma1 = [aluno1, aluno2, aluno3]\n",
    "\n",
    "for al in turma1:\n",
    "    print(al[0], al[1], mediaNotas(al[2]))\n",
    "\n",
    "#for aluno in turma1:\n",
    "    #print(aluno[1], \" :: \", mediaNotas(aluno[2]))\n"
   ]
  },
  {
   "cell_type": "code",
   "execution_count": null,
   "metadata": {},
   "outputs": [],
   "source": []
  },
  {
   "cell_type": "markdown",
   "metadata": {},
   "source": [
    "#### Exercícios"
   ]
  },
  {
   "cell_type": "code",
   "execution_count": null,
   "metadata": {},
   "outputs": [],
   "source": [
    "# Lista com os inteiros no intervalo [1,100]\n",
    "\n",
    "i = 1\n",
    "lista = []\n",
    "while i < 101:\n",
    "    lista.append(i)\n",
    "    i = i + 1\n",
    "print(lista)\n",
    "\n",
    "# Lista com os inteiros divisíveis por 7 no intervalo [1,1000]\n",
    "\n",
    "j = 1\n",
    "listaDiv7 = []\n",
    "while j < 1001:\n",
    "    if j % 7 == 0:\n",
    "        listaDiv7.append(j)\n",
    "    j = j + 1\n",
    "print(listaDiv7)\n"
   ]
  },
  {
   "cell_type": "code",
   "execution_count": null,
   "metadata": {},
   "outputs": [],
   "source": [
    "frase = \"A alma humana é vítima tão inevitável da dor que sofre a dor da surpresa dolorosa\"\n",
    "lista = [x for x in frase]\n",
    "lista.sort()\n",
    "print(lista)"
   ]
  },
  {
   "cell_type": "markdown",
   "metadata": {},
   "source": [
    "#### Comprimento"
   ]
  },
  {
   "cell_type": "code",
   "execution_count": null,
   "metadata": {},
   "outputs": [],
   "source": [
    "vogais = ['a', 'e', 'i', 'o', 'u']\n",
    "print(len(vogais))"
   ]
  },
  {
   "cell_type": "markdown",
   "metadata": {},
   "source": [
    "#### _in_ e _not in_"
   ]
  },
  {
   "cell_type": "code",
   "execution_count": null,
   "metadata": {},
   "outputs": [],
   "source": [
    "texto = \"Hoje está um dia bonito!\"\n",
    "vogaisPresentes = []\n",
    "for v in vogais:\n",
    "    if v in texto:\n",
    "        vogaisPresentes.append(True)\n",
    "    else:\n",
    "        vogaisPresentes.append(False)\n",
    "print(vogaisPresentes)"
   ]
  },
  {
   "cell_type": "markdown",
   "metadata": {},
   "source": [
    "#### Acrescentar elementos numa lista"
   ]
  },
  {
   "cell_type": "code",
   "execution_count": null,
   "metadata": {},
   "outputs": [],
   "source": [
    "pares100 = []\n",
    "i = 0\n",
    "while i <= 100:\n",
    "    pares100.append(i)\n",
    "    i = i+2\n",
    "print(pares100)\n",
    "\n",
    "# Fazer o mesmo em compreensão"
   ]
  },
  {
   "cell_type": "markdown",
   "metadata": {},
   "source": [
    "#### Apagar o conteúdo duma lista"
   ]
  },
  {
   "cell_type": "code",
   "execution_count": null,
   "metadata": {},
   "outputs": [],
   "source": [
    "pares100.clear()\n",
    "print(pares100)"
   ]
  },
  {
   "cell_type": "markdown",
   "metadata": {},
   "source": [
    "#### Copiar uma lista"
   ]
  },
  {
   "cell_type": "code",
   "execution_count": null,
   "metadata": {},
   "outputs": [],
   "source": [
    "cores = [\"vermelho\", \"verde\", \"azul\"]\n",
    "cores2 = cores.copy() + [\"amarelo\"]\n",
    "print(cores2)\n",
    "print(cores2.index(\"verde\"))"
   ]
  },
  {
   "cell_type": "code",
   "execution_count": null,
   "metadata": {},
   "outputs": [],
   "source": [
    "coresIndex = []\n",
    "for i in range(len(cores2)):\n",
    "    coresIndex.append((i, cores2[i]))\n",
    "print(coresIndex)"
   ]
  },
  {
   "cell_type": "markdown",
   "metadata": {},
   "source": [
    "#### Inserir um elemento numa determinada posição"
   ]
  },
  {
   "cell_type": "code",
   "execution_count": null,
   "metadata": {},
   "outputs": [],
   "source": [
    "cores2.insert(1, \"roxo\")\n",
    "print(cores2)"
   ]
  },
  {
   "cell_type": "markdown",
   "metadata": {},
   "source": [
    "#### Remover a primeira ocorrência de um elemento"
   ]
  },
  {
   "cell_type": "code",
   "execution_count": null,
   "metadata": {},
   "outputs": [],
   "source": [
    "cores2 = cores2 + [\"verde\", \"verde\"]\n",
    "print(cores2)\n",
    "cores2.remove(\"verde\")\n",
    "print(cores2)"
   ]
  },
  {
   "cell_type": "markdown",
   "metadata": {},
   "source": [
    "#### Ordem e ordenação"
   ]
  },
  {
   "cell_type": "code",
   "execution_count": null,
   "metadata": {},
   "outputs": [],
   "source": [
    "lista = [x for x in range(1,21)]\n",
    "print(lista)\n",
    "lista.reverse()\n",
    "print(lista)\n",
    "lista.sort()\n",
    "print(lista)"
   ]
  },
  {
   "cell_type": "markdown",
   "metadata": {},
   "source": [
    "### Exercício: vamos criar uma lista..."
   ]
  },
  {
   "cell_type": "code",
   "execution_count": null,
   "metadata": {},
   "outputs": [],
   "source": [
    "def criarListaInt():\n",
    "    lista = []\n",
    "    n = int(input(\"Introduza o número de elementos da lista: \"))\n",
    "    i = 1\n",
    "    while len(lista) < n:\n",
    "        elem = int(input(\"Introduza o elemento \" + str(i) + \": \"))\n",
    "        lista.append(elem)\n",
    "        i = i+1\n",
    "    return lista"
   ]
  },
  {
   "cell_type": "code",
   "execution_count": null,
   "metadata": {},
   "outputs": [],
   "source": [
    "l = criarListaInt()\n",
    "print(l)"
   ]
  },
  {
   "cell_type": "markdown",
   "metadata": {},
   "source": [
    "#### Vamos automatizar a criação da lista"
   ]
  },
  {
   "cell_type": "code",
   "execution_count": null,
   "metadata": {},
   "outputs": [],
   "source": [
    "from random import randrange\n",
    "def criarListaInt2(nelems):\n",
    "    lista = []\n",
    "    i = 1\n",
    "    while len(lista) < nelems:\n",
    "        elem = randrange(0, 101)\n",
    "        lista.append(elem)\n",
    "        i = i+1\n",
    "    return lista"
   ]
  },
  {
   "cell_type": "code",
   "execution_count": null,
   "metadata": {},
   "outputs": [],
   "source": [
    "l2 = criarListaInt2(40)\n",
    "print(l2)\n",
    "l2.sort()\n",
    "print(l2)"
   ]
  },
  {
   "cell_type": "markdown",
   "metadata": {},
   "source": [
    "#### Há duplicados, como podemos evitar que sejam gerados?"
   ]
  },
  {
   "cell_type": "code",
   "execution_count": null,
   "metadata": {},
   "outputs": [],
   "source": [
    "# Resolver na sessão"
   ]
  },
  {
   "cell_type": "markdown",
   "metadata": {},
   "source": [
    "#### Exercício: Vamos definir uma função para calcular o maior da lista                                                                                                                                                                                                                                                                                                                                             "
   ]
  }
 ],
 "metadata": {
  "kernelspec": {
   "display_name": "Python 3",
   "language": "python",
   "name": "python3"
  },
  "language_info": {
   "codemirror_mode": {
    "name": "ipython",
    "version": 3
   },
   "file_extension": ".py",
   "mimetype": "text/x-python",
   "name": "python",
   "nbconvert_exporter": "python",
   "pygments_lexer": "ipython3",
   "version": "3.11.5"
  }
 },
 "nbformat": 4,
 "nbformat_minor": 2
}
